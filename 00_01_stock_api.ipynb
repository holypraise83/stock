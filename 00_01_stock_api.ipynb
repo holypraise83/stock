{
 "cells": [
  {
   "cell_type": "code",
   "execution_count": 1,
   "metadata": {},
   "outputs": [],
   "source": [
    "from pykrx import stock\n",
    "import pandas as pd\n"
   ]
  },
  {
   "cell_type": "code",
   "execution_count": 3,
   "metadata": {},
   "outputs": [],
   "source": [
    "tickers = stock.get_market_ticker_list(\"20190225\")\n",
    "# print(tickers)"
   ]
  },
  {
   "cell_type": "markdown",
   "metadata": {},
   "source": [
    "# 연기금의 거래량"
   ]
  },
  {
   "cell_type": "code",
   "execution_count": 11,
   "metadata": {},
   "outputs": [
    {
     "name": "stdout",
     "output_type": "stream",
     "text": [
      "            종목명   매도거래량   매수거래량  순매수거래량      매도거래대금      매수거래대금     순매수거래대금\n",
      "티커                                                                         \n",
      "095570   AJ네트웍스      28       0     -28      153370           0     -153370\n",
      "006840    AK홀딩스       7       0      -7      188200           0     -188200\n",
      "027410      BGF      76    8182    8106      419480    45058660    44639180\n",
      "282330   BGF리테일    1700    1565    -135   289250500   266404000   -22846500\n",
      "138930  BNK금융지주  139425  359049  219624  1223376740  3149390890  1926014150\n"
     ]
    }
   ],
   "source": [
    "df = stock.get_market_net_purchases_of_equities_by_ticker(\"20211005\", \"20211005\", \"KOSPI\", \"연기금\")\n",
    "# df = pd.DataFrame(df)\n",
    "df = df.sort_values('종목명')\n",
    "print(df.head())"
   ]
  },
  {
   "cell_type": "code",
   "execution_count": 12,
   "metadata": {},
   "outputs": [
    {
     "data": {
      "text/plain": [
       "(576, 7)"
      ]
     },
     "execution_count": 12,
     "metadata": {},
     "output_type": "execute_result"
    }
   ],
   "source": [
    "df.shape"
   ]
  },
  {
   "cell_type": "code",
   "execution_count": 15,
   "metadata": {},
   "outputs": [
    {
     "data": {
      "text/plain": [
       "(906, 7)"
      ]
     },
     "execution_count": 15,
     "metadata": {},
     "output_type": "execute_result"
    }
   ],
   "source": [
    "df = stock.get_market_net_purchases_of_equities_by_ticker(\"20210115\", \"20210122\", \"KOSPI\", \"개인\")\n",
    "df.shape"
   ]
  },
  {
   "cell_type": "code",
   "execution_count": null,
   "metadata": {},
   "outputs": [],
   "source": []
  }
 ],
 "metadata": {
  "interpreter": {
   "hash": "2214efce57469931d36483dc4482df02ac5ab028ceb412ec7cefab177f1bfced"
  },
  "kernelspec": {
   "display_name": "Python 3.8.8 64-bit ('base': conda)",
   "name": "python3"
  },
  "language_info": {
   "codemirror_mode": {
    "name": "ipython",
    "version": 3
   },
   "file_extension": ".py",
   "mimetype": "text/x-python",
   "name": "python",
   "nbconvert_exporter": "python",
   "pygments_lexer": "ipython3",
   "version": "3.8.8"
  },
  "orig_nbformat": 4
 },
 "nbformat": 4,
 "nbformat_minor": 2
}