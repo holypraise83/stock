{
 "cells": [
  {
   "cell_type": "code",
   "execution_count": 1,
   "metadata": {},
   "outputs": [],
   "source": [
    "import pandas as pd\n",
    "import win32com.client\n",
    "import time"
   ]
  },
  {
   "cell_type": "code",
   "execution_count": 3,
   "metadata": {},
   "outputs": [
    {
     "name": "stdout",
     "output_type": "stream",
     "text": [
      "0\n"
     ]
    }
   ],
   "source": [
    "\n",
    "instCpCybos = win32com.client.Dispatch(\"CpUtil.CpCybos\")\n",
    "print(instCpCybos.IsConnect)"
   ]
  },
  {
   "cell_type": "markdown",
   "metadata": {},
   "source": [
    "# 60일 동안의 거래량 구하기"
   ]
  },
  {
   "cell_type": "code",
   "execution_count": 5,
   "metadata": {},
   "outputs": [
    {
     "name": "stdout",
     "output_type": "stream",
     "text": [
      "일반주 0.7157689096256812\n"
     ]
    }
   ],
   "source": [
    "# Create object\n",
    "instStockChart = win32com.client.Dispatch(\"CpSysDib.StockChart\")\n",
    "\n",
    "# SetInputValue\n",
    "instStockChart.SetInputValue(0, \"A035420\")\n",
    "instStockChart.SetInputValue(1, ord('2'))\n",
    "instStockChart.SetInputValue(4, 60) # 60일\n",
    "instStockChart.SetInputValue(5, 8) # 거래량\n",
    "instStockChart.SetInputValue(6, ord('D'))\n",
    "instStockChart.SetInputValue(9, ord('1'))\n",
    "\n",
    "# BlockRequest\n",
    "instStockChart.BlockRequest()\n",
    "\n",
    "# GetData\n",
    "volumes = []\n",
    "numData = instStockChart.GetHeaderValue(3)\n",
    "for i in range(numData):\n",
    "    volume = instStockChart.GetDataValue(0, i)\n",
    "    volumes.append(volume)\n",
    "# print(volumes)\n",
    "\n",
    "\n",
    "\n",
    "# Calculate average volume\n",
    "averageVolume = (sum(volumes) - volumes[0]) / (len(volumes) -1)\n",
    "\n",
    "if(volumes[0] > averageVolume * 10):\n",
    "    print(\"대박주\")\n",
    "else:\n",
    "    print(\"일반주\", volumes[0] / averageVolume)"
   ]
  },
  {
   "cell_type": "markdown",
   "metadata": {},
   "source": [
    "# 거래량 체크하는 함수"
   ]
  },
  {
   "cell_type": "code",
   "execution_count": 6,
   "metadata": {},
   "outputs": [],
   "source": [
    "\n",
    "def CheckVolumn(instStockChart, code):\n",
    "    # SetInputValue\n",
    "    instStockChart.SetInputValue(0, code)\n",
    "    instStockChart.SetInputValue(1, ord('2'))\n",
    "    instStockChart.SetInputValue(4, 60)\n",
    "    instStockChart.SetInputValue(5, 8)\n",
    "    instStockChart.SetInputValue(6, ord('D'))\n",
    "    instStockChart.SetInputValue(9, ord('1'))\n",
    "\n",
    "    # BlockRequest\n",
    "    instStockChart.BlockRequest()\n",
    "\n",
    "    # GetData\n",
    "    volumes = []\n",
    "    numData = instStockChart.GetHeaderValue(3)\n",
    "    for i in range(numData):\n",
    "        volume = instStockChart.GetDataValue(0, i)\n",
    "        volumes.append(volume)\n",
    "\n",
    "    # Calculate average volume\n",
    "    averageVolume = (sum(volumes) - volumes[0]) / (len(volumes) -1)\n",
    "\n",
    "    if(volumes[0] > averageVolume * 10):\n",
    "        return 1\n",
    "    else:\n",
    "        return 0"
   ]
  },
  {
   "cell_type": "code",
   "execution_count": 9,
   "metadata": {},
   "outputs": [],
   "source": [
    "# 종목별 코드 리스트\n",
    "instCpCodeMgr = win32com.client.Dispatch(\"CpUtil.CpCodeMgr\")\n",
    "codeList = instCpCodeMgr.GetStockListByMarket(1)\n",
    "# print(codeList)"
   ]
  },
  {
   "cell_type": "code",
   "execution_count": 23,
   "metadata": {},
   "outputs": [],
   "source": [
    "buyList = []\n",
    "\n",
    "instStockChart = win32com.client.Dispatch(\"CpSysDib.StockChart\")\n",
    "for code in codeList:\n",
    "    value = CheckVolumn(instStockChart, code)\n",
    "    if value == 1:\n",
    "        buyList.append(code)\n",
    "    time.sleep(1)"
   ]
  },
  {
   "cell_type": "code",
   "execution_count": 24,
   "metadata": {},
   "outputs": [
    {
     "data": {
      "text/plain": [
       "['A000890',\n",
       " 'A011280',\n",
       " 'A017370',\n",
       " 'A093240',\n",
       " 'A139290',\n",
       " 'A139660',\n",
       " 'A200030',\n",
       " 'A395760',\n",
       " 'Q530080',\n",
       " 'Q570050',\n",
       " 'Q570057',\n",
       " 'Q580017',\n",
       " 'Q580022',\n",
       " 'Q610010']"
      ]
     },
     "execution_count": 24,
     "metadata": {},
     "output_type": "execute_result"
    }
   ],
   "source": [
    "buyList"
   ]
  },
  {
   "cell_type": "code",
   "execution_count": 25,
   "metadata": {},
   "outputs": [
    {
     "data": {
      "text/html": [
       "<div>\n",
       "<style scoped>\n",
       "    .dataframe tbody tr th:only-of-type {\n",
       "        vertical-align: middle;\n",
       "    }\n",
       "\n",
       "    .dataframe tbody tr th {\n",
       "        vertical-align: top;\n",
       "    }\n",
       "\n",
       "    .dataframe thead th {\n",
       "        text-align: right;\n",
       "    }\n",
       "</style>\n",
       "<table border=\"1\" class=\"dataframe\">\n",
       "  <thead>\n",
       "    <tr style=\"text-align: right;\">\n",
       "      <th></th>\n",
       "      <th>code</th>\n",
       "      <th>name</th>\n",
       "    </tr>\n",
       "  </thead>\n",
       "  <tbody>\n",
       "    <tr>\n",
       "      <th>0</th>\n",
       "      <td>A000020</td>\n",
       "      <td>동화약품</td>\n",
       "    </tr>\n",
       "    <tr>\n",
       "      <th>1</th>\n",
       "      <td>A000040</td>\n",
       "      <td>KR모터스</td>\n",
       "    </tr>\n",
       "    <tr>\n",
       "      <th>2</th>\n",
       "      <td>A000050</td>\n",
       "      <td>경방</td>\n",
       "    </tr>\n",
       "    <tr>\n",
       "      <th>3</th>\n",
       "      <td>A000060</td>\n",
       "      <td>메리츠화재</td>\n",
       "    </tr>\n",
       "    <tr>\n",
       "      <th>4</th>\n",
       "      <td>A000070</td>\n",
       "      <td>삼양홀딩스</td>\n",
       "    </tr>\n",
       "  </tbody>\n",
       "</table>\n",
       "</div>"
      ],
      "text/plain": [
       "      code   name\n",
       "0  A000020   동화약품\n",
       "1  A000040  KR모터스\n",
       "2  A000050     경방\n",
       "3  A000060  메리츠화재\n",
       "4  A000070  삼양홀딩스"
      ]
     },
     "execution_count": 25,
     "metadata": {},
     "output_type": "execute_result"
    }
   ],
   "source": [
    "kospi = pd.read_csv(\"kospi_list.csv\", encoding='euc-kr')\n",
    "kospi.head()"
   ]
  },
  {
   "cell_type": "code",
   "execution_count": 30,
   "metadata": {},
   "outputs": [
    {
     "data": {
      "text/html": [
       "<div>\n",
       "<style scoped>\n",
       "    .dataframe tbody tr th:only-of-type {\n",
       "        vertical-align: middle;\n",
       "    }\n",
       "\n",
       "    .dataframe tbody tr th {\n",
       "        vertical-align: top;\n",
       "    }\n",
       "\n",
       "    .dataframe thead th {\n",
       "        text-align: right;\n",
       "    }\n",
       "</style>\n",
       "<table border=\"1\" class=\"dataframe\">\n",
       "  <thead>\n",
       "    <tr style=\"text-align: right;\">\n",
       "      <th></th>\n",
       "      <th>code</th>\n",
       "    </tr>\n",
       "  </thead>\n",
       "  <tbody>\n",
       "    <tr>\n",
       "      <th>0</th>\n",
       "      <td>A000890</td>\n",
       "    </tr>\n",
       "    <tr>\n",
       "      <th>1</th>\n",
       "      <td>A011280</td>\n",
       "    </tr>\n",
       "    <tr>\n",
       "      <th>2</th>\n",
       "      <td>A017370</td>\n",
       "    </tr>\n",
       "    <tr>\n",
       "      <th>3</th>\n",
       "      <td>A093240</td>\n",
       "    </tr>\n",
       "    <tr>\n",
       "      <th>4</th>\n",
       "      <td>A139290</td>\n",
       "    </tr>\n",
       "  </tbody>\n",
       "</table>\n",
       "</div>"
      ],
      "text/plain": [
       "      code\n",
       "0  A000890\n",
       "1  A011280\n",
       "2  A017370\n",
       "3  A093240\n",
       "4  A139290"
      ]
     },
     "execution_count": 30,
     "metadata": {},
     "output_type": "execute_result"
    }
   ],
   "source": [
    "all_list = pd.DataFrame(buyList)\n",
    "all_list = all_list.rename(columns ={0:\"code\"})\n",
    "all_list.head()"
   ]
  },
  {
   "cell_type": "code",
   "execution_count": 32,
   "metadata": {},
   "outputs": [
    {
     "data": {
      "text/html": [
       "<div>\n",
       "<style scoped>\n",
       "    .dataframe tbody tr th:only-of-type {\n",
       "        vertical-align: middle;\n",
       "    }\n",
       "\n",
       "    .dataframe tbody tr th {\n",
       "        vertical-align: top;\n",
       "    }\n",
       "\n",
       "    .dataframe thead th {\n",
       "        text-align: right;\n",
       "    }\n",
       "</style>\n",
       "<table border=\"1\" class=\"dataframe\">\n",
       "  <thead>\n",
       "    <tr style=\"text-align: right;\">\n",
       "      <th></th>\n",
       "      <th>code</th>\n",
       "      <th>name</th>\n",
       "    </tr>\n",
       "  </thead>\n",
       "  <tbody>\n",
       "    <tr>\n",
       "      <th>0</th>\n",
       "      <td>A000890</td>\n",
       "      <td>보해양조</td>\n",
       "    </tr>\n",
       "    <tr>\n",
       "      <th>1</th>\n",
       "      <td>A011280</td>\n",
       "      <td>태림포장</td>\n",
       "    </tr>\n",
       "    <tr>\n",
       "      <th>2</th>\n",
       "      <td>A017370</td>\n",
       "      <td>우신시스템</td>\n",
       "    </tr>\n",
       "    <tr>\n",
       "      <th>3</th>\n",
       "      <td>A093240</td>\n",
       "      <td>형지엘리트</td>\n",
       "    </tr>\n",
       "    <tr>\n",
       "      <th>4</th>\n",
       "      <td>A139290</td>\n",
       "      <td>TIGER 200 경기소비재</td>\n",
       "    </tr>\n",
       "  </tbody>\n",
       "</table>\n",
       "</div>"
      ],
      "text/plain": [
       "      code             name\n",
       "0  A000890             보해양조\n",
       "1  A011280             태림포장\n",
       "2  A017370            우신시스템\n",
       "3  A093240            형지엘리트\n",
       "4  A139290  TIGER 200 경기소비재"
      ]
     },
     "execution_count": 32,
     "metadata": {},
     "output_type": "execute_result"
    }
   ],
   "source": [
    "all_list = pd.merge(all_list, kospi, on = 'code', how = 'left')\n",
    "all_list.head()"
   ]
  },
  {
   "cell_type": "code",
   "execution_count": 33,
   "metadata": {},
   "outputs": [
    {
     "data": {
      "text/html": [
       "<div>\n",
       "<style scoped>\n",
       "    .dataframe tbody tr th:only-of-type {\n",
       "        vertical-align: middle;\n",
       "    }\n",
       "\n",
       "    .dataframe tbody tr th {\n",
       "        vertical-align: top;\n",
       "    }\n",
       "\n",
       "    .dataframe thead th {\n",
       "        text-align: right;\n",
       "    }\n",
       "</style>\n",
       "<table border=\"1\" class=\"dataframe\">\n",
       "  <thead>\n",
       "    <tr style=\"text-align: right;\">\n",
       "      <th></th>\n",
       "      <th>code</th>\n",
       "      <th>name</th>\n",
       "    </tr>\n",
       "  </thead>\n",
       "  <tbody>\n",
       "    <tr>\n",
       "      <th>0</th>\n",
       "      <td>A000890</td>\n",
       "      <td>보해양조</td>\n",
       "    </tr>\n",
       "    <tr>\n",
       "      <th>1</th>\n",
       "      <td>A011280</td>\n",
       "      <td>태림포장</td>\n",
       "    </tr>\n",
       "    <tr>\n",
       "      <th>2</th>\n",
       "      <td>A017370</td>\n",
       "      <td>우신시스템</td>\n",
       "    </tr>\n",
       "    <tr>\n",
       "      <th>3</th>\n",
       "      <td>A093240</td>\n",
       "      <td>형지엘리트</td>\n",
       "    </tr>\n",
       "    <tr>\n",
       "      <th>4</th>\n",
       "      <td>A139290</td>\n",
       "      <td>TIGER 200 경기소비재</td>\n",
       "    </tr>\n",
       "    <tr>\n",
       "      <th>5</th>\n",
       "      <td>A139660</td>\n",
       "      <td>KOSEF 미국달러선물인버스</td>\n",
       "    </tr>\n",
       "    <tr>\n",
       "      <th>6</th>\n",
       "      <td>A200030</td>\n",
       "      <td>KODEX 미국S&amp;P산업재(합성)</td>\n",
       "    </tr>\n",
       "    <tr>\n",
       "      <th>7</th>\n",
       "      <td>A395760</td>\n",
       "      <td>ARIRANG ESG성장주액티브</td>\n",
       "    </tr>\n",
       "    <tr>\n",
       "      <th>8</th>\n",
       "      <td>Q530080</td>\n",
       "      <td>삼성 인버스 항셍테크 ETN(H)</td>\n",
       "    </tr>\n",
       "    <tr>\n",
       "      <th>9</th>\n",
       "      <td>Q570050</td>\n",
       "      <td>TRUE S&amp;P500 선물 ETN</td>\n",
       "    </tr>\n",
       "    <tr>\n",
       "      <th>10</th>\n",
       "      <td>Q570057</td>\n",
       "      <td>TRUE 은 선물 ETN</td>\n",
       "    </tr>\n",
       "    <tr>\n",
       "      <th>11</th>\n",
       "      <td>Q580017</td>\n",
       "      <td>KB 인버스 2X S&amp;P 500 선물 ETN</td>\n",
       "    </tr>\n",
       "    <tr>\n",
       "      <th>12</th>\n",
       "      <td>Q580022</td>\n",
       "      <td>KB 레버리지 금 선물 ETN(H)</td>\n",
       "    </tr>\n",
       "    <tr>\n",
       "      <th>13</th>\n",
       "      <td>Q610010</td>\n",
       "      <td>메리츠 인버스 2X 국채30년 ETN</td>\n",
       "    </tr>\n",
       "  </tbody>\n",
       "</table>\n",
       "</div>"
      ],
      "text/plain": [
       "       code                      name\n",
       "0   A000890                      보해양조\n",
       "1   A011280                      태림포장\n",
       "2   A017370                     우신시스템\n",
       "3   A093240                     형지엘리트\n",
       "4   A139290           TIGER 200 경기소비재\n",
       "5   A139660           KOSEF 미국달러선물인버스\n",
       "6   A200030        KODEX 미국S&P산업재(합성)\n",
       "7   A395760         ARIRANG ESG성장주액티브\n",
       "8   Q530080        삼성 인버스 항셍테크 ETN(H)\n",
       "9   Q570050        TRUE S&P500 선물 ETN\n",
       "10  Q570057             TRUE 은 선물 ETN\n",
       "11  Q580017  KB 인버스 2X S&P 500 선물 ETN\n",
       "12  Q580022       KB 레버리지 금 선물 ETN(H)\n",
       "13  Q610010      메리츠 인버스 2X 국채30년 ETN"
      ]
     },
     "execution_count": 33,
     "metadata": {},
     "output_type": "execute_result"
    }
   ],
   "source": [
    "all_list"
   ]
  },
  {
   "cell_type": "code",
   "execution_count": null,
   "metadata": {},
   "outputs": [],
   "source": []
  }
 ],
 "metadata": {
  "interpreter": {
   "hash": "97ae724bfa85b9b34df7982b8bb8c7216f435b92902d749e4263f71162bea840"
  },
  "kernelspec": {
   "display_name": "Python 3.8.8 32-bit ('base': conda)",
   "name": "python3"
  },
  "language_info": {
   "codemirror_mode": {
    "name": "ipython",
    "version": 3
   },
   "file_extension": ".py",
   "mimetype": "text/x-python",
   "name": "python",
   "nbconvert_exporter": "python",
   "pygments_lexer": "ipython3",
   "version": "3.8.8"
  },
  "orig_nbformat": 4
 },
 "nbformat": 4,
 "nbformat_minor": 2
}
