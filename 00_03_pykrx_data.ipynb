{
 "cells": [
  {
   "cell_type": "code",
   "execution_count": 2,
   "metadata": {},
   "outputs": [],
   "source": [
    "import pandas as pd\n",
    "from pykrx import stock"
   ]
  },
  {
   "cell_type": "code",
   "execution_count": 6,
   "metadata": {},
   "outputs": [
    {
     "ename": "TypeError",
     "evalue": "get_market_net_purchases_of_equities_by_ticker() missing 1 required positional argument: 'todate'",
     "output_type": "error",
     "traceback": [
      "\u001b[1;31m---------------------------------------------------------------------------\u001b[0m",
      "\u001b[1;31mTypeError\u001b[0m                                 Traceback (most recent call last)",
      "\u001b[1;32m<ipython-input-6-54c17fb03d31>\u001b[0m in \u001b[0;36m<module>\u001b[1;34m\u001b[0m\n\u001b[0;32m      1\u001b[0m \u001b[1;31m# df = stock.get_market_trading_value_and_volume_by_ticker(\"20201030\")\u001b[0m\u001b[1;33m\u001b[0m\u001b[1;33m\u001b[0m\u001b[1;33m\u001b[0m\u001b[0m\n\u001b[1;32m----> 2\u001b[1;33m \u001b[0mdf\u001b[0m \u001b[1;33m=\u001b[0m \u001b[0mstock\u001b[0m\u001b[1;33m.\u001b[0m\u001b[0mget_market_net_purchases_of_equities_by_ticker\u001b[0m\u001b[1;33m(\u001b[0m\u001b[1;34m\"20201030\"\u001b[0m\u001b[1;33m)\u001b[0m\u001b[1;33m\u001b[0m\u001b[1;33m\u001b[0m\u001b[0m\n\u001b[0m\u001b[0;32m      3\u001b[0m \u001b[0mprint\u001b[0m\u001b[1;33m(\u001b[0m\u001b[0mdf\u001b[0m\u001b[1;33m)\u001b[0m\u001b[1;33m\u001b[0m\u001b[1;33m\u001b[0m\u001b[0m\n",
      "\u001b[1;31mTypeError\u001b[0m: get_market_net_purchases_of_equities_by_ticker() missing 1 required positional argument: 'todate'"
     ]
    }
   ],
   "source": [
    "# df = stock.get_market_trading_value_and_volume_by_ticker(\"20201030\")\n",
    "df = stock.get_market_net_purchases_of_equities_by_ticker(\"20201030\")\n",
    "print(df)"
   ]
  },
  {
   "cell_type": "code",
   "execution_count": 8,
   "metadata": {},
   "outputs": [],
   "source": [
    "tickers = stock.get_market_ticker_list(\"20190225\")\n",
    "# print(tickers)"
   ]
  },
  {
   "cell_type": "code",
   "execution_count": 9,
   "metadata": {},
   "outputs": [
    {
     "name": "stdout",
     "output_type": "stream",
     "text": [
      "               시가     고가     저가     종가        거래량\n",
      "날짜                                               \n",
      "2018-08-31  46150  48450  43500  48450  135518029\n",
      "2018-09-30  48200  48300  44000  46450  197984482\n",
      "2018-10-31  46450  46800  40400  42400  234645485\n"
     ]
    }
   ],
   "source": [
    "df = stock.get_market_ohlcv_by_date(\"20180810\", \"20181212\", \"005930\", \"m\")\n",
    "print(df.head(3))"
   ]
  },
  {
   "cell_type": "code",
   "execution_count": 15,
   "metadata": {},
   "outputs": [
    {
     "name": "stdout",
     "output_type": "stream",
     "text": [
      "            종목명    매도거래량     매수거래량   순매수거래량         매도거래대금         매수거래대금  \\\n",
      "티커                                                                          \n",
      "001450     현대해상   156604   1567856  1411252     4282698850    42648543550   \n",
      "028050  삼성엔지니어링   419597   1443762  1024165    10335307450    35928403100   \n",
      "024110     기업은행   318518   1253000   934482     3367667100    13221479300   \n",
      "003490     대한항공  1829041   2556352   727311    59571503900    83559191500   \n",
      "395400     SK리츠     3760    667759   663999       22707560     4041635490   \n",
      "035720      카카오  9766010  10230864   464854  1129277444500  1183924633500   \n",
      "009830    한화솔루션  1522490   1980118   457628    66229966550    86019158050   \n",
      "003530   한화투자증권     3076    384019   380943       13237360     1671687735   \n",
      "272450      진에어    61690    408981   347291     1430843350     9760215550   \n",
      "003470    유안타증권     6685    341303   334618       26339265     1345693430   \n",
      "\n",
      "            순매수거래대금  \n",
      "티커                   \n",
      "001450  38365844700  \n",
      "028050  25593095650  \n",
      "024110   9853812200  \n",
      "003490  23987687600  \n",
      "395400   4018927930  \n",
      "035720  54647189000  \n",
      "009830  19789191500  \n",
      "003530   1658450375  \n",
      "272450   8329372200  \n",
      "003470   1319354165  \n"
     ]
    }
   ],
   "source": [
    "df = stock.get_market_net_purchases_of_equities_by_ticker(\"20211001\", \"20211012\", \"KOSPI\", \"연기금\")\n",
    "df = df.sort_values(\"순매수거래량\", ascending = False)\n",
    "print(df.head(10))"
   ]
  },
  {
   "cell_type": "code",
   "execution_count": 19,
   "metadata": {},
   "outputs": [
    {
     "name": "stdout",
     "output_type": "stream",
     "text": [
      "            종목명     매도거래량     매수거래량   순매수거래량        매도거래대금        매수거래대금  \\\n",
      "티커                                                                         \n",
      "005930     삼성전자   4325131   7264886  2939755  316650699000  531753869300   \n",
      "005935    삼성전자우    660164   1917996  1257832   45137354000  130992642300   \n",
      "003560      IHQ   2614705   3699950  1085245    4243053195    6015041430   \n",
      "034020    두산중공업   3608182   4682716  1074534   72001176150   93484448100   \n",
      "027710     팜스토리  25830254  26719112   888858   73428942010   76073426255   \n",
      "340360     다보링크   5954510   6820764   866254   12857149445   14722976325   \n",
      "005290    동진쎄미켐  14660326  15525912   865586  523540722950  555602755400   \n",
      "002360  SH에너지화학  19633998  20486749   852751   23730902920   24770771640   \n",
      "000270       기아    477347   1325767   848420   37899921200  104923999900   \n",
      "042040   케이피엠테크   5618227   6321225   702998    8228138940    9249193175   \n",
      "\n",
      "             순매수거래대금  \n",
      "티커                    \n",
      "005930  215103170300  \n",
      "005935   85855288300  \n",
      "003560    1771988235  \n",
      "034020   21483271950  \n",
      "027710    2644484245  \n",
      "340360    1865826880  \n",
      "005290   32062032450  \n",
      "002360    1039868720  \n",
      "000270   67024078700  \n",
      "042040    1021054235  \n"
     ]
    }
   ],
   "source": [
    "df = stock.get_market_net_purchases_of_equities_by_ticker(\"20211001\", \"20211001\", \"연기금\")\n",
    "df = df.sort_values(\"순매수거래량\", ascending = False)\n",
    "print(df.head(10))"
   ]
  },
  {
   "cell_type": "code",
   "execution_count": null,
   "metadata": {},
   "outputs": [],
   "source": []
  }
 ],
 "metadata": {
  "interpreter": {
   "hash": "97ae724bfa85b9b34df7982b8bb8c7216f435b92902d749e4263f71162bea840"
  },
  "kernelspec": {
   "display_name": "Python 3.8.8 32-bit ('base': conda)",
   "name": "python3"
  },
  "language_info": {
   "codemirror_mode": {
    "name": "ipython",
    "version": 3
   },
   "file_extension": ".py",
   "mimetype": "text/x-python",
   "name": "python",
   "nbconvert_exporter": "python",
   "pygments_lexer": "ipython3",
   "version": "3.8.8"
  },
  "orig_nbformat": 4
 },
 "nbformat": 4,
 "nbformat_minor": 2
}
